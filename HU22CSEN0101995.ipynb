{
  "nbformat": 4,
  "nbformat_minor": 0,
  "metadata": {
    "colab": {
      "provenance": [],
      "authorship_tag": "ABX9TyMqFH1bhRKjc4jjpPoCwYma",
      "include_colab_link": true
    },
    "kernelspec": {
      "name": "python3",
      "display_name": "Python 3"
    },
    "language_info": {
      "name": "python"
    }
  },
  "cells": [
    {
      "cell_type": "markdown",
      "metadata": {
        "id": "view-in-github",
        "colab_type": "text"
      },
      "source": [
        "<a href=\"https://colab.research.google.com/github/yesshreyes/Assignment-2-SE-Lab-Task_2/blob/main/HU22CSEN0101995.ipynb\" target=\"_parent\"><img src=\"https://colab.research.google.com/assets/colab-badge.svg\" alt=\"Open In Colab\"/></a>"
      ]
    },
    {
      "cell_type": "code",
      "execution_count": 9,
      "metadata": {
        "id": "NMUh2F_KSRwU"
      },
      "outputs": [],
      "source": [
        "def Temperature_modeling(a,b,c,time):\n",
        "  temperature = a*time**2 + b*time + c\n",
        "  return temperature"
      ]
    },
    {
      "cell_type": "code",
      "source": [
        "#hardcoded variables\n",
        "a = 1\n",
        "b = 2\n",
        "c = 3\n",
        "time = 5"
      ],
      "metadata": {
        "id": "76PLs7uGT4qD"
      },
      "execution_count": 14,
      "outputs": []
    },
    {
      "cell_type": "code",
      "source": [
        "#dislay results\n",
        "print(\"Hard-coded variables for weather modeling\")\n",
        "print(\"Temperature for hardcoded coefficients at time\", time,\"hours:\",Temperature_modeling(a,b,c,time))"
      ],
      "metadata": {
        "colab": {
          "base_uri": "https://localhost:8080/"
        },
        "id": "xP-1kRKtT-Tq",
        "outputId": "caf6b3b2-9b25-4fc6-a4c4-bb8a00bd9243"
      },
      "execution_count": 10,
      "outputs": [
        {
          "output_type": "stream",
          "name": "stdout",
          "text": [
            "Hard-coded variables for weather modeling\n",
            "Temperature for hardcoded coefficients at time 5 hours: 38\n"
          ]
        }
      ]
    },
    {
      "cell_type": "code",
      "source": [
        "a = float(input(\"Enter the value of A: \"))\n",
        "b = float(input(\"Enter the value of B: \"))\n",
        "c = float(input(\"Enter the value of C: \"))"
      ],
      "metadata": {
        "colab": {
          "base_uri": "https://localhost:8080/"
        },
        "id": "hl_laZJqUoKd",
        "outputId": "d9ae038e-c4a5-4257-e9ac-2df40207531c"
      },
      "execution_count": 11,
      "outputs": [
        {
          "name": "stdout",
          "output_type": "stream",
          "text": [
            "Enter the value of A: 0.1\n",
            "Enter the value of B: 3\n",
            "Enter the value of C: 10\n"
          ]
        }
      ]
    },
    {
      "cell_type": "code",
      "source": [
        "time = float(input(\"Enter the time: \"))"
      ],
      "metadata": {
        "colab": {
          "base_uri": "https://localhost:8080/"
        },
        "id": "pNp4pz7RVCvQ",
        "outputId": "dda492e5-1ed5-41a0-f449-ad7940fa8cf3"
      },
      "execution_count": 12,
      "outputs": [
        {
          "name": "stdout",
          "output_type": "stream",
          "text": [
            "Enter the time: 4\n"
          ]
        }
      ]
    },
    {
      "cell_type": "code",
      "source": [
        "#variables read from keyboard\n",
        "print(\"Hard-coded variables for weather modeling\")\n",
        "print(\"Temperature for hardcoded coefficients at time\", time,\"hours:\",Temperature_modeling(a,b,c,time))"
      ],
      "metadata": {
        "colab": {
          "base_uri": "https://localhost:8080/"
        },
        "id": "_ge_ccnQVSWm",
        "outputId": "6ee34c2a-3d49-4b18-dc08-80119ed432a9"
      },
      "execution_count": 13,
      "outputs": [
        {
          "output_type": "stream",
          "name": "stdout",
          "text": [
            "Hard-coded variables for weather modeling\n",
            "Temperature for hardcoded coefficients at time 4.0 hours: 23.6\n"
          ]
        }
      ]
    },
    {
      "cell_type": "code",
      "source": [
        "def read_from_file(filename):\n",
        "  with open(filename,'r') as file:\n",
        "    lines = file.readlines()\n",
        "  coefficients = [tuple(map(float,line.strip().split(','))) for line in lines]\n",
        "  return coefficients"
      ],
      "metadata": {
        "id": "RmBo6qdcV62B"
      },
      "execution_count": 18,
      "outputs": []
    },
    {
      "cell_type": "code",
      "source": [
        "coefficients = read_from_file('/content/input.txt')\n",
        "a,b,c,time = coefficients[0]\n",
        "temperature = Temperature_modeling(a,b,c,time)\n",
        "print(\"Red from a file for weather modeling\")\n",
        "print(\"Temperature for keyboard coefficients at time\", time,\"hours:\",Temperature_modeling(a,b,c,time))\n"
      ],
      "metadata": {
        "colab": {
          "base_uri": "https://localhost:8080/"
        },
        "id": "1O7xILBEYtvJ",
        "outputId": "52da59bb-858d-4ca1-821e-995027b2e98a"
      },
      "execution_count": 19,
      "outputs": [
        {
          "output_type": "stream",
          "name": "stdout",
          "text": [
            "Red from a file for weather modeling\n",
            "Temperature for keyboard coefficients at time 4.0 hours: 27.0\n"
          ]
        }
      ]
    },
    {
      "cell_type": "code",
      "source": [
        "#Solve for all sets in file\n",
        "for idx,(a,b,c,time) in enumerate(coefficients):\n",
        "  temperature = Temperature_modeling(a,b,c,time)\n",
        "  print(\"Temperature for keyboard coefficients at time\", time,\"hours:\",Temperature_modeling(a,b,c,time))"
      ],
      "metadata": {
        "colab": {
          "base_uri": "https://localhost:8080/"
        },
        "id": "K7CfHSavZd6T",
        "outputId": "61645740-f63c-4ea3-ab48-fae8e0b0a1e3"
      },
      "execution_count": 21,
      "outputs": [
        {
          "output_type": "stream",
          "name": "stdout",
          "text": [
            "Temperature for keyboard coefficients at time 4.0 hours: 27.0\n",
            "Temperature for keyboard coefficients at time 8.0 hours: 375.0\n",
            "Temperature for keyboard coefficients at time 12.0 hours: 1427.0\n"
          ]
        }
      ]
    }
  ]
}